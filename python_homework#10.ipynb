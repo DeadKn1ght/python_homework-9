{
  "nbformat": 4,
  "nbformat_minor": 0,
  "metadata": {
    "colab": {
      "provenance": []
    },
    "kernelspec": {
      "name": "python3",
      "display_name": "Python 3"
    },
    "language_info": {
      "name": "python"
    }
  },
  "cells": [
    {
      "cell_type": "code",
      "source": [
        "lst = ['robot'] * 5\n",
        "lst += ['human'] * 5\n",
        "lst += ['animal'] * 5\n",
        "random.shuffle(lst)\n",
        "\n",
        "data = {'whoAmI' : lst}\n",
        "pprint.pprint(data['whoAmI'])\n",
        "print() \n",
        "\n",
        "cat = set(data['whoAmI'])\n",
        "pprint.pprint(cat)\n",
        "print()\n",
        "\n",
        "onehot_encode = [{z: 0 for z in cat} for x in range(len(data['whoAmI']))]\n",
        "\n",
        "for item in enumerate(data['whoAmI']):\n",
        "\tonehot_encode[item[0]][item[1]] = 1\n",
        "\n",
        "pprint.pprint (onehot_encode)"
      ],
      "metadata": {
        "id": "VepM4RZ5MYeh",
        "colab": {
          "base_uri": "https://localhost:8080/"
        },
        "outputId": "d74a5697-1ce0-4231-ce18-e86eda49dab5"
      },
      "execution_count": 10,
      "outputs": [
        {
          "output_type": "stream",
          "name": "stdout",
          "text": [
            "['human',\n",
            " 'robot',\n",
            " 'animal',\n",
            " 'robot',\n",
            " 'animal',\n",
            " 'human',\n",
            " 'human',\n",
            " 'human',\n",
            " 'robot',\n",
            " 'robot',\n",
            " 'robot',\n",
            " 'animal',\n",
            " 'animal',\n",
            " 'human',\n",
            " 'animal']\n",
            "\n",
            "{'animal', 'human', 'robot'}\n",
            "\n",
            "[{'animal': 0, 'human': 1, 'robot': 0},\n",
            " {'animal': 0, 'human': 0, 'robot': 1},\n",
            " {'animal': 1, 'human': 0, 'robot': 0},\n",
            " {'animal': 0, 'human': 0, 'robot': 1},\n",
            " {'animal': 1, 'human': 0, 'robot': 0},\n",
            " {'animal': 0, 'human': 1, 'robot': 0},\n",
            " {'animal': 0, 'human': 1, 'robot': 0},\n",
            " {'animal': 0, 'human': 1, 'robot': 0},\n",
            " {'animal': 0, 'human': 0, 'robot': 1},\n",
            " {'animal': 0, 'human': 0, 'robot': 1},\n",
            " {'animal': 0, 'human': 0, 'robot': 1},\n",
            " {'animal': 1, 'human': 0, 'robot': 0},\n",
            " {'animal': 1, 'human': 0, 'robot': 0},\n",
            " {'animal': 0, 'human': 1, 'robot': 0},\n",
            " {'animal': 1, 'human': 0, 'robot': 0}]\n"
          ]
        }
      ]
    },
    {
      "cell_type": "code",
      "source": [],
      "metadata": {
        "id": "VgvMCUgCQpej"
      },
      "execution_count": null,
      "outputs": []
    },
    {
      "cell_type": "code",
      "source": [],
      "metadata": {
        "id": "ggybCHiXMjrz"
      },
      "execution_count": null,
      "outputs": []
    },
    {
      "cell_type": "code",
      "source": [],
      "metadata": {
        "id": "RT5veBx8Ml_u"
      },
      "execution_count": null,
      "outputs": []
    },
    {
      "cell_type": "code",
      "source": [],
      "metadata": {
        "id": "rd_iA3cJMnay"
      },
      "execution_count": null,
      "outputs": []
    },
    {
      "cell_type": "code",
      "source": [],
      "metadata": {
        "id": "SY1xOWvtQtNy"
      },
      "execution_count": null,
      "outputs": []
    },
    {
      "cell_type": "code",
      "execution_count": null,
      "metadata": {
        "id": "roqxiA3-MMmn"
      },
      "outputs": [],
      "source": []
    },
    {
      "cell_type": "code",
      "source": [],
      "metadata": {
        "id": "t6mGWPRLQ5xf"
      },
      "execution_count": null,
      "outputs": []
    },
    {
      "cell_type": "code",
      "source": [],
      "metadata": {
        "colab": {
          "base_uri": "https://localhost:8080/",
          "height": 165
        },
        "id": "i_AOg0IrRVlo",
        "outputId": "6e8562fa-dc1d-4187-9fbc-ba1ed6f7e1b8"
      },
      "execution_count": null,
      "outputs": [
        {
          "output_type": "error",
          "ename": "NameError",
          "evalue": "ignored",
          "traceback": [
            "\u001b[0;31m---------------------------------------------------------------------------\u001b[0m",
            "\u001b[0;31mNameError\u001b[0m                                 Traceback (most recent call last)",
            "\u001b[0;32m<ipython-input-45-9d29134cae19>\u001b[0m in \u001b[0;36m<module>\u001b[0;34m\u001b[0m\n\u001b[0;32m----> 1\u001b[0;31m \u001b[0mfinal_df\u001b[0m \u001b[0;34m=\u001b[0m \u001b[0mdf\u001b[0m\u001b[0;34m.\u001b[0m\u001b[0mjoin\u001b[0m\u001b[0;34m(\u001b[0m\u001b[0mencoder_df\u001b[0m\u001b[0;34m)\u001b[0m\u001b[0;34m\u001b[0m\u001b[0;34m\u001b[0m\u001b[0m\n\u001b[0m",
            "\u001b[0;31mNameError\u001b[0m: name 'df' is not defined"
          ]
        }
      ]
    },
    {
      "cell_type": "code",
      "source": [],
      "metadata": {
        "id": "O8zIDrk3SEkW"
      },
      "execution_count": null,
      "outputs": []
    },
    {
      "cell_type": "code",
      "source": [],
      "metadata": {
        "id": "_OkwpoU8RZFP"
      },
      "execution_count": null,
      "outputs": []
    },
    {
      "cell_type": "code",
      "source": [],
      "metadata": {
        "id": "e5RoNpxdNBfh"
      },
      "execution_count": null,
      "outputs": []
    }
  ]
}